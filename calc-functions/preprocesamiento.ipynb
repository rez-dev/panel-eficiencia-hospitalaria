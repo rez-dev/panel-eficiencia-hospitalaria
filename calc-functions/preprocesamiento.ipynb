{
 "cells": [
  {
   "cell_type": "code",
   "execution_count": 1,
   "id": "2d97ccfe",
   "metadata": {},
   "outputs": [
    {
     "name": "stdout",
     "output_type": "stream",
     "text": [
      "hospital_id                    0\n",
      "region_id                      0\n",
      "hospital_name                  0\n",
      "hospital_alternative_name      6\n",
      "latitud                        0\n",
      "longitud                       0\n",
      "Consultas                      0\n",
      "GRDxEgreso                   134\n",
      "Bienes y servicios             0\n",
      "Remuneraciones                 0\n",
      "Dias Cama Disponibles          8\n",
      "Consultas Urgencias            0\n",
      "Examenes                       0\n",
      "Quirofanos                     0\n",
      "Año                            0\n",
      "dtype: int64\n",
      "hospital_id                  0\n",
      "region_id                    0\n",
      "hospital_name                0\n",
      "hospital_alternative_name    0\n",
      "latitud                      0\n",
      "longitud                     0\n",
      "Consultas                    0\n",
      "GRDxEgreso                   0\n",
      "Bienes y servicios           0\n",
      "Remuneraciones               0\n",
      "Dias Cama Disponibles        0\n",
      "Consultas Urgencias          0\n",
      "Examenes                     0\n",
      "Quirofanos                   0\n",
      "Año                          0\n",
      "dtype: int64\n"
     ]
    }
   ],
   "source": [
    "import pandas as pd\n",
    "import numpy as np\n",
    "\n",
    "# Leer el archivo CSV\n",
    "df = pd.read_csv(\"C:\\\\Users\\\\roesc\\\\Desktop\\\\hospital-efficiency-dashboard_data\\\\df_consolidado_final_v2.csv\")\n",
    "\n",
    "# Mostrar las primeras filas del DataFrame\n",
    "df.head()\n",
    "\n",
    "# pasar valores '--' a 0 en columnas 'Bienes y servicios' y 'Remuneraciones'\n",
    "df['Bienes y servicios'] = df['Bienes y servicios'].replace('--', 0)\n",
    "df['Remuneraciones'] = df['Remuneraciones'].replace('--', 0)\n",
    "\n",
    "# pasar columnas de tipo string a tipo float\n",
    "cols_to_float = ['Bienes y servicios', 'Remuneraciones']\n",
    "for col in cols_to_float:\n",
    "    df[col] = df[col].astype(str).str.replace(',', '.').astype(float)\n",
    "\n",
    "# contar missing en las columnas usando pandas\n",
    "missing_counts = df.isnull().sum()\n",
    "# mostrar los conteos de valores faltantes\n",
    "print(missing_counts)\n",
    "\n",
    "# pasar missing a 0\n",
    "df.fillna(0, inplace=True)\n",
    "\n",
    "# contar missing en las columnas usando pandas\n",
    "missing_counts = df.isnull().sum()\n",
    "# mostrar los conteos de valores faltantes\n",
    "print(missing_counts)"
   ]
  },
  {
   "cell_type": "code",
   "execution_count": 2,
   "id": "338580cd",
   "metadata": {},
   "outputs": [],
   "source": [
    "# exportar df final como csv y excel\n",
    "df.to_csv(\"C:\\\\Users\\\\roesc\\\\Desktop\\\\hospital-efficiency-dashboard_data\\\\df_consolidado_final_v2_cleaned.csv\", index=False)\n",
    "df.to_excel(\"C:\\\\Users\\\\roesc\\\\Desktop\\\\hospital-efficiency-dashboard_data\\\\df_consolidado_final_v2_cleaned.xlsx\", index=False)"
   ]
  }
 ],
 "metadata": {
  "kernelspec": {
   "display_name": "python311",
   "language": "python",
   "name": "python3"
  },
  "language_info": {
   "codemirror_mode": {
    "name": "ipython",
    "version": 3
   },
   "file_extension": ".py",
   "mimetype": "text/x-python",
   "name": "python",
   "nbconvert_exporter": "python",
   "pygments_lexer": "ipython3",
   "version": "3.11.11"
  }
 },
 "nbformat": 4,
 "nbformat_minor": 5
}
